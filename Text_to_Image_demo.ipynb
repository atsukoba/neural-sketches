{
  "nbformat": 4,
  "nbformat_minor": 0,
  "metadata": {
    "colab": {
      "name": "Text-to-Image-demo.ipynb",
      "provenance": [],
      "collapsed_sections": [],
      "toc_visible": true,
      "authorship_tag": "ABX9TyMlpSDE+lDB8bsHQqDSC9SY",
      "include_colab_link": true
    },
    "kernelspec": {
      "name": "python3",
      "display_name": "Python 3"
    }
  },
  "cells": [
    {
      "cell_type": "markdown",
      "metadata": {
        "id": "view-in-github",
        "colab_type": "text"
      },
      "source": [
        "<a href=\"https://colab.research.google.com/github/atsukoba/neural-sketches/blob/master/Text_to_Image_demo.ipynb\" target=\"_parent\"><img src=\"https://colab.research.google.com/assets/colab-badge.svg\" alt=\"Open In Colab\"/></a>"
      ]
    },
    {
      "cell_type": "markdown",
      "metadata": {
        "id": "ziS_eS5YpoCa",
        "colab_type": "text"
      },
      "source": [
        "# Text to Image generation with GANs"
      ]
    },
    {
      "cell_type": "code",
      "metadata": {
        "id": "V6MbvPl6pl-H",
        "colab_type": "code",
        "colab": {
          "base_uri": "https://localhost:8080/",
          "height": 127
        },
        "outputId": "bd1dd859-fc97-431f-fa92-cd2ecf27cfc1"
      },
      "source": [
        "# when using Google Colab\n",
        "from google.colab import files, drive\n",
        "\n",
        "drive.mount('/content/text-to-image')"
      ],
      "execution_count": 4,
      "outputs": [
        {
          "output_type": "stream",
          "text": [
            "Go to this URL in a browser: https://accounts.google.com/o/oauth2/auth?client_id=947318989803-6bn6qk8qdgf4n4g3pfee6491hc0brc4i.apps.googleusercontent.com&redirect_uri=urn%3aietf%3awg%3aoauth%3a2.0%3aoob&response_type=code&scope=email%20https%3a%2f%2fwww.googleapis.com%2fauth%2fdocs.test%20https%3a%2f%2fwww.googleapis.com%2fauth%2fdrive%20https%3a%2f%2fwww.googleapis.com%2fauth%2fdrive.photos.readonly%20https%3a%2f%2fwww.googleapis.com%2fauth%2fpeopleapi.readonly\n",
            "\n",
            "Enter your authorization code:\n",
            "··········\n",
            "Mounted at /content/text-to-image\n"
          ],
          "name": "stdout"
        }
      ]
    },
    {
      "cell_type": "code",
      "metadata": {
        "id": "zCyUPZRaqM81",
        "colab_type": "code",
        "colab": {}
      },
      "source": [
        "# in Google Colab\n",
        "# root_path = '/content/text-to-image/My\\ Drive/text-to-image'\n",
        "dataset_path = \"http://www.robots.ox.ac.uk/~vgg/data/flowers/102/102flowers.tgz\""
      ],
      "execution_count": 0,
      "outputs": []
    }
  ]
}