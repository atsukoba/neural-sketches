{
  "nbformat": 4,
  "nbformat_minor": 0,
  "metadata": {
    "colab": {
      "name": "style_transfer.ipynb",
      "provenance": [],
      "collapsed_sections": [],
      "toc_visible": true,
      "authorship_tag": "ABX9TyOBb3z/KKSWX1AfbUIjNicd",
      "include_colab_link": true
    },
    "kernelspec": {
      "name": "python3",
      "display_name": "Python 3"
    }
  },
  "cells": [
    {
      "cell_type": "markdown",
      "metadata": {
        "id": "view-in-github",
        "colab_type": "text"
      },
      "source": [
        "<a href=\"https://colab.research.google.com/github/atsukoba/neural-sketches/blob/master/style_transfer.ipynb\" target=\"_parent\"><img src=\"https://colab.research.google.com/assets/colab-badge.svg\" alt=\"Open In Colab\"/></a>"
      ]
    },
    {
      "cell_type": "markdown",
      "metadata": {
        "id": "V3h05AKtvcoY",
        "colab_type": "text"
      },
      "source": [
        "# Style Transfer Sample"
      ]
    },
    {
      "cell_type": "code",
      "metadata": {
        "id": "XIHz0Kt-uWdS",
        "colab_type": "code",
        "colab": {}
      },
      "source": [
        "import tensorflow as tf\n",
        "import IPython.display as display\n",
        "\n",
        "import matplotlib.pyplot as plt\n",
        "import matplotlib as mpl\n",
        "mpl.rcParams['figure.figsize'] = (14, 14)\n",
        "mpl.rcParams['axes.grid'] = False\n",
        "\n",
        "import numpy as np\n",
        "import PIL.Image\n",
        "import time\n",
        "import functools\n",
        "\n",
        "\n",
        "def tensor_to_image(tensor):\n",
        "    tensor = tensor*255\n",
        "    tensor = np.array(tensor, dtype=np.uint8)\n",
        "    if np.ndim(tensor)>3:\n",
        "        assert tensor.shape[0] == 1\n",
        "        tensor = tensor[0]\n",
        "    return PIL.Image.fromarray(tensor)\n",
        "\n",
        "\n",
        "def load_img(path_to_img):\n",
        "    max_dim = 512\n",
        "    img = tf.io.read_file(path_to_img)\n",
        "    img = tf.image.decode_image(img, channels=3)\n",
        "    img = tf.image.convert_image_dtype(img, tf.float32)\n",
        "    shape = tf.cast(tf.shape(img)[:-1], tf.float32)\n",
        "    long_dim = max(shape)\n",
        "    scale = max_dim / long_dim\n",
        "    new_shape = tf.cast(shape * scale, tf.int32)\n",
        "    img = tf.image.resize(img, new_shape)\n",
        "    img = img[tf.newaxis, :]\n",
        "    return img\n",
        "\n",
        "\n",
        "def imshow(image, title=None):\n",
        "    if len(image.shape) > 3:\n",
        "        image = tf.squeeze(image, axis=0)\n",
        "\n",
        "    plt.imshow(image)\n",
        "    if title:\n",
        "        plt.title(title)\n"
      ],
      "execution_count": 1,
      "outputs": []
    },
    {
      "cell_type": "markdown",
      "metadata": {
        "id": "XSSC5-tNv4GH",
        "colab_type": "text"
      },
      "source": [
        "## Use Pretrained Model via TensorHub"
      ]
    },
    {
      "cell_type": "code",
      "metadata": {
        "id": "S-F3_rhhvbDW",
        "colab_type": "code",
        "colab": {}
      },
      "source": [
        "import os\n",
        "from google.colab import files\n",
        "import tensorflow_hub as hub\n",
        "\n",
        "\n",
        "hub_module = hub.load('https://tfhub.dev/google/magenta/arbitrary-image-stylization-v1-256/1')\n",
        "\n",
        "\n",
        "def transfer_style(path_to_image: str, path_to_style: str, save_file=None):\n",
        "    assert os.path.exists(path_to_image), \"Image File Not Found\"\n",
        "    assert os.path.exists(path_to_style), \"Style File Not Found\"\n",
        "    print(f\"Load image: {path_to_image}\")\n",
        "    content_image = load_img(path_to_image)\n",
        "    print(f\"Load image: {path_to_style}\")\n",
        "    style_image = load_img(path_to_style)\n",
        "    print(\"Transfering style...\")\n",
        "    stylized_image = hub_module(tf.constant(content_image), tf.constant(style_image))[0]\n",
        "    if save_file is not None:\n",
        "        img = tensor_to_image(stylized_image)\n",
        "        img.save(save_file)\n",
        "        return img\n",
        "    return tensor_to_image(stylized_image)\n"
      ],
      "execution_count": 3,
      "outputs": []
    },
    {
      "cell_type": "markdown",
      "metadata": {
        "id": "PjzzYPEgyqkp",
        "colab_type": "text"
      },
      "source": [
        "## Image for Content/Style"
      ]
    },
    {
      "cell_type": "code",
      "metadata": {
        "id": "_ED1oJtVyu9N",
        "colab_type": "code",
        "colab": {}
      },
      "source": [
        "import os\n",
        "import requests\n",
        "import cv2\n",
        "import numpy as np\n",
        "from IPython.display import display, Javascript\n",
        "from google.colab.output import eval_js\n",
        "from base64 import b64decode\n",
        "from IPython.display import Image\n",
        "\n",
        "\n",
        "def upload_image(select_texture=True):\n",
        "    print(\"Upload Your Photo !\")\n",
        "    uploaded = files.upload()\n",
        "    fname = list(uploaded.keys())[0]\n",
        "    return fname\n",
        "\n",
        "\n",
        "VIDEO_JS = Javascript('''\n",
        "async function takePhoto(quality) {\n",
        "  // Create a video and play it.\n",
        "  const video = document.createElement('video')\n",
        "  document.body.appendChild(video)\n",
        "  video.srcObject = await navigator.mediaDevices.getUserMedia({video: true})\n",
        "  await video.play()\n",
        "  // Resize the output to fit the video element.\n",
        "  google.colab.output.setIframeHeight(document.documentElement.scrollHeight, true)\n",
        "  // Wait for video to be clicked.\n",
        "  await new Promise((resolve) => video.onclick = resolve)\n",
        "  const canvas = document.createElement('canvas')\n",
        "  canvas.width = video.videoWidth\n",
        "  canvas.height = video.videoHeight\n",
        "  canvas.getContext('2d').drawImage(video, 0, 0)\n",
        "  video.srcObject.getVideoTracks()[0].stop()\n",
        "  video.remove()\n",
        "  return canvas.toDataURL('image/jpeg', quality)\n",
        "}\n",
        "''')\n",
        "\n",
        "def take_photo(filename='photo.jpg', quality=0.8): \n",
        "    display(VIDEO_JS)\n",
        "    data = eval_js('takePhoto({})'.format(quality))\n",
        "    binary = b64decode(data.split(',')[1])\n",
        "    with open(filename, 'wb') as f:\n",
        "        f.write(binary)\n",
        "    return filename\n",
        "\n",
        "\n",
        "def url_to_image(url):\n",
        "    # download the image, convert it to a NumPy array, and then read\n",
        "    # it into OpenCV format\n",
        "    resp = requests.get(url)\n",
        "    image = np.asarray(bytearray(resp.content), dtype=\"uint8\")\n",
        "    image = cv2.imdecode(image, cv2.IMREAD_COLOR)\n",
        "    # return the image\n",
        "    return image\n"
      ],
      "execution_count": 25,
      "outputs": []
    },
    {
      "cell_type": "markdown",
      "metadata": {
        "id": "TCG0knrOzRvo",
        "colab_type": "text"
      },
      "source": [
        "## Try it"
      ]
    },
    {
      "cell_type": "code",
      "metadata": {
        "id": "yFNoHCOLzTP-",
        "colab_type": "code",
        "colab": {}
      },
      "source": [
        "transfer_style(\n",
        "    take_photo(),  # Take Your Photo\n",
        "    upload_image()  # Upload Image of Style\n",
        ")"
      ],
      "execution_count": 27,
      "outputs": []
    },
    {
      "cell_type": "code",
      "metadata": {
        "id": "lGzF_82815P1",
        "colab_type": "code",
        "colab": {}
      },
      "source": [
        ""
      ],
      "execution_count": null,
      "outputs": []
    }
  ]
}